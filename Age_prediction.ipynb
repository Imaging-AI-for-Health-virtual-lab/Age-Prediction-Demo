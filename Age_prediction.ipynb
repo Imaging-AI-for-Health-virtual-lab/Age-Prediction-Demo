{
 "cells": [
  {
   "cell_type": "markdown",
   "id": "3c0cbba5",
   "metadata": {},
   "source": [
    "[![Open In Colab](https://colab.research.google.com/assets/colab-badge.svg)](https://colab.research.google.com/github/sdiciotti/Age-Prediction-Demo/blob/master/Age_prediction.ipynb)"
   ]
  },
  {
   "cell_type": "code",
   "execution_count": null,
   "id": "9784981f",
   "metadata": {},
   "outputs": [],
   "source": [
    "!pip install shap\n",
    "import ipywidgets as widgets \n",
    "import numpy as np\n",
    "import pandas as pd\n",
    "from sklearn.model_selection import train_test_split, KFold, GridSearchCV, cross_validate\n",
    "from sklearn.svm import SVR, SVC\n",
    "from sklearn.metrics import mean_absolute_error, accuracy_score\n",
    "import shap\n",
    "from xgboost import XGBClassifier\n",
    "import matplotlib.pyplot as plt\n",
    "import warnings\n",
    "warnings.filterwarnings('ignore')\n"
   ]
  },
  {
   "cell_type": "code",
   "execution_count": null,
   "id": "d56d11c9",
   "metadata": {
    "scrolled": true
   },
   "outputs": [],
   "source": [
    "df = pd.read_csv('https://raw.githubusercontent.com/sdiciotti/Age-Prediction-Demo/main/NKI2_data.csv')\n",
    "features = list(df.columns)\n",
    "df_plot = df.copy()\n",
    "df"
   ]
  },
  {
   "cell_type": "code",
   "execution_count": null,
   "id": "df30f195",
   "metadata": {
    "scrolled": true
   },
   "outputs": [],
   "source": [
    "\n",
    "a = widgets.Dropdown(\n",
    "    options=features,\n",
    "    value=features[1],\n",
    "    description='X:',\n",
    "    disabled=False,\n",
    ")\n",
    "b = widgets.Dropdown(\n",
    "    options=features,\n",
    "    value=features[1],\n",
    "    description='y:',\n",
    "    disabled=False,\n",
    ")\n",
    "display(a,b)\n"
   ]
  },
  {
   "cell_type": "code",
   "execution_count": null,
   "id": "3d360515",
   "metadata": {},
   "outputs": [],
   "source": [
    "plt.figure(dpi=100)\n",
    "plt.scatter(df_plot[a.value],df_plot[b.value])\n",
    "plt.xlabel(a.value)\n",
    "plt.ylabel(b.value)"
   ]
  },
  {
   "cell_type": "code",
   "execution_count": null,
   "id": "f86bbfe0",
   "metadata": {},
   "outputs": [],
   "source": [
    "print(\"Dataframe shape before NaN removal:\", np.shape(df)[0])"
   ]
  },
  {
   "cell_type": "code",
   "execution_count": null,
   "id": "70abaa9c",
   "metadata": {},
   "outputs": [],
   "source": [
    "df.dropna(axis=0, how='any', thresh=None, subset=None, inplace=True)\n",
    "print(\"Dataframe shape after NaN removal:\", np.shape(df)[0])"
   ]
  },
  {
   "cell_type": "code",
   "execution_count": null,
   "id": "ff204972",
   "metadata": {},
   "outputs": [],
   "source": [
    "### REGRESSION ###\n",
    "print('***Regression task')\n",
    "\n",
    "SEED = 42\n",
    "outer_n_folds = 5\n",
    "inner_n_folds = 5\n",
    "C = [0.1, 1, 10]\n",
    "\n",
    "X = df.iloc[:,2::]\n",
    "shap_X = df.iloc[:,2::]\n",
    "y = df['Age']\n",
    "\n",
    "print('The whole dataset contains ' + str(np.shape(df)[0]) + ' subjects')\n",
    "print('The age prediction will be performed using ' + str(np.shape(X)[1]) + ' MRI-derived features')\n",
    "print() "
   ]
  },
  {
   "cell_type": "code",
   "execution_count": null,
   "id": "33d358be",
   "metadata": {
    "scrolled": true
   },
   "outputs": [],
   "source": [
    "# NestedCV implemented in scikit-learn\n",
    "outer_cv = KFold(n_splits=outer_n_folds, shuffle=True, random_state=SEED)\n",
    "inner_cv = KFold(n_splits=inner_n_folds, shuffle=True, random_state=SEED)\n",
    "\n",
    "clf = SVR(kernel='rbf', degree=3, gamma='scale', coef0=0.0, tol=0.001, C=0.1, epsilon=0.1, shrinking=True, cache_size=200, verbose=0, max_iter=- 1)\n",
    "p_grid = [{'C': C}]     \n",
    "\n",
    "X = np.asarray(X)\n",
    "y = np.asarray(y)\n",
    "\n",
    "clf_gs = GridSearchCV(clf, param_grid=p_grid, cv=inner_cv, refit='neg_mean_absolute_error', scoring='neg_mean_absolute_error', n_jobs=1, verbose = 4)\n",
    "nested_score = cross_validate(clf_gs, X=X, y=y, cv=outer_cv, return_train_score=True, return_estimator=True, scoring = 'neg_mean_absolute_error', n_jobs=1)\n",
    "\n",
    "#print(np.abs(nested_score['train_score']))\n",
    "#print(np.abs(nested_score['test_score']))\n",
    "print(\"Average MAE train:\", np.abs(np.mean(nested_score['train_score'])))\n",
    "print(\"Average MAE test:\", np.abs(np.mean(nested_score['test_score'])))"
   ]
  },
  {
   "cell_type": "markdown",
   "id": "b4c9db63",
   "metadata": {},
   "source": [
    "# SHAP VALUES"
   ]
  },
  {
   "cell_type": "code",
   "execution_count": null,
   "id": "24e427c1",
   "metadata": {},
   "outputs": [],
   "source": [
    "clf_gs.fit(shap_X,y)\n",
    "model = clf_gs.best_estimator_"
   ]
  },
  {
   "cell_type": "code",
   "execution_count": null,
   "id": "0d44e132",
   "metadata": {},
   "outputs": [],
   "source": [
    "explainer = shap.Explainer(model.predict,shap_X)\n",
    "shap_values = explainer(shap_X)"
   ]
  },
  {
   "cell_type": "code",
   "execution_count": null,
   "id": "019cb161",
   "metadata": {},
   "outputs": [],
   "source": [
    "shap.plots.waterfall(shap_values[1], max_display=14)"
   ]
  },
  {
   "cell_type": "code",
   "execution_count": null,
   "id": "f0c7b344",
   "metadata": {
    "scrolled": true
   },
   "outputs": [],
   "source": [
    "shap.plots.beeswarm(shap_values, max_display=14)"
   ]
  },
  {
   "cell_type": "code",
   "execution_count": null,
   "id": "35a306d0",
   "metadata": {},
   "outputs": [],
   "source": [
    "shap.plots.bar(shap_values)"
   ]
  },
  {
   "cell_type": "code",
   "execution_count": null,
   "id": "62c7b597",
   "metadata": {},
   "outputs": [],
   "source": [
    "shap.plots.scatter(shap_values[:,\"rh_cortex_CT\"], color=shap_values)"
   ]
  },
  {
   "cell_type": "markdown",
   "id": "47fc4d7b",
   "metadata": {},
   "source": [
    "# CLASSIFICATION OF THE AGE"
   ]
  },
  {
   "cell_type": "code",
   "execution_count": null,
   "id": "56233240",
   "metadata": {},
   "outputs": [],
   "source": [
    "df = pd.read_csv('https://raw.githubusercontent.com/sdiciotti/Age-Prediction-Demo/main/NKI2_data.csv')\n",
    "df.dropna(axis=0, how='any', thresh=None, subset=None, inplace=True)\n"
   ]
  },
  {
   "cell_type": "code",
   "execution_count": null,
   "id": "33659fb9",
   "metadata": {},
   "outputs": [],
   "source": [
    "df[\"Age\"].unique()"
   ]
  },
  {
   "cell_type": "code",
   "execution_count": null,
   "id": "24de607b",
   "metadata": {},
   "outputs": [],
   "source": [
    "bin_age = []\n",
    "index = []\n",
    "for i, age in enumerate(df[\"Age\"]):\n",
    "    if age <=10: \n",
    "        bin_age.append(0)\n",
    "        index.append(i)\n",
    "        \n",
    "    elif age >=12: \n",
    "        bin_age.append(1)\n",
    "        index.append(i)"
   ]
  },
  {
   "cell_type": "code",
   "execution_count": null,
   "id": "db90ddaa",
   "metadata": {},
   "outputs": [],
   "source": [
    "df = df.iloc[index]\n",
    "df[\"bin_age\"] = bin_age\n",
    "del df[\"Age\"]"
   ]
  },
  {
   "cell_type": "code",
   "execution_count": null,
   "id": "ed5e95bf",
   "metadata": {},
   "outputs": [],
   "source": [
    "df"
   ]
  },
  {
   "cell_type": "code",
   "execution_count": null,
   "id": "8a6b0891",
   "metadata": {},
   "outputs": [],
   "source": [
    "### CLASSIFICATION ###\n",
    "print('***Classification task')\n",
    "\n",
    "SEED = 42\n",
    "outer_n_folds = 5\n",
    "inner_n_folds = 5\n",
    "C = [0.1, 1, 10]\n",
    "\n",
    "X = df.iloc[:,1::]\n",
    "del X[\"bin_age\"]\n",
    "shap_X = df.iloc[:,1::]\n",
    "del shap_X[\"bin_age\"]\n",
    "y = df['bin_age']\n",
    "\n",
    "print('The whole dataset contains ' + str(np.shape(df)[0]) + ' subjects')\n",
    "print('The age prediction will be performed using ' + str(np.shape(X)[1]) + ' MRI-derived features')\n",
    "print() "
   ]
  },
  {
   "cell_type": "code",
   "execution_count": null,
   "id": "ed6a3b83",
   "metadata": {},
   "outputs": [],
   "source": [
    "# NestedCV implemented in scikit-learn\n",
    "outer_cv = KFold(n_splits=outer_n_folds, shuffle=True, random_state=SEED)\n",
    "inner_cv = KFold(n_splits=inner_n_folds, shuffle=True, random_state=SEED)\n",
    "\n",
    "#clf = SVC(degree=3, gamma='scale', coef0=0.0, tol=0.001, C=0.1,  shrinking=True, cache_size=200, verbose=0, max_iter=- 1)\n",
    "#p_grid = [{'C': C}]     \n",
    "clf = XGBClassifier(verbosity=0)\n",
    "gamma = [0.1,0.2,0.3]\n",
    "p_grid =[{\"gamma\":gamma}]\n",
    "X = np.asarray(X)\n",
    "y = np.asarray(y)\n",
    "\n",
    "clf_gs = GridSearchCV(clf, param_grid=p_grid, cv=inner_cv, refit='roc_auc', scoring='roc_auc', n_jobs=1, verbose = 4)\n",
    "nested_score = cross_validate(clf_gs, X=X, y=y, cv=outer_cv, return_train_score=True, return_estimator=True, scoring = 'roc_auc', n_jobs=1)\n",
    "\n",
    "#print(np.abs(nested_score['train_score']))\n",
    "#print(np.abs(nested_score['test_score']))\n",
    "print(\"Average ROC AUC train:\", np.abs(np.mean(nested_score['train_score'])))\n",
    "print(\"Average ROC AUC test:\", np.abs(np.mean(nested_score['test_score'])))"
   ]
  },
  {
   "cell_type": "markdown",
   "id": "345251e3",
   "metadata": {},
   "source": [
    "# SHAP VALUES"
   ]
  },
  {
   "cell_type": "code",
   "execution_count": null,
   "id": "29a9353c",
   "metadata": {},
   "outputs": [],
   "source": [
    "clf_gs.fit(shap_X,y)\n",
    "model = clf_gs.best_estimator_"
   ]
  },
  {
   "cell_type": "code",
   "execution_count": null,
   "id": "54a24432",
   "metadata": {},
   "outputs": [],
   "source": [
    "explainer = shap.TreeExplainer(model,shap_X,feature_perturbation='interventional', model_output='probability')\n",
    "shap_values = explainer(shap_X)"
   ]
  },
  {
   "cell_type": "code",
   "execution_count": null,
   "id": "d1848237",
   "metadata": {},
   "outputs": [],
   "source": [
    "shap.plots.waterfall(shap_values[1], max_display=5)"
   ]
  },
  {
   "cell_type": "code",
   "execution_count": null,
   "id": "d85fa150",
   "metadata": {},
   "outputs": [],
   "source": [
    "shap.plots.beeswarm(shap_values, max_display=14)"
   ]
  },
  {
   "cell_type": "code",
   "execution_count": null,
   "id": "0fdc510f",
   "metadata": {},
   "outputs": [],
   "source": [
    "shap.plots.bar(shap_values)"
   ]
  },
  {
   "cell_type": "code",
   "execution_count": null,
   "id": "4fb45df5",
   "metadata": {},
   "outputs": [],
   "source": [
    "shap.plots.scatter(shap_values[:,\"lh_cerebralGM_FD\"], color=shap_values)"
   ]
  },
  {
   "cell_type": "code",
   "execution_count": null,
   "id": "55d20c45",
   "metadata": {},
   "outputs": [],
   "source": []
  },
  {
   "cell_type": "code",
   "execution_count": null,
   "id": "8ff92066",
   "metadata": {},
   "outputs": [],
   "source": []
  }
 ],
 "metadata": {
  "interpreter": {
   "hash": "14a4b5b2d3bc25746aef17473cfa7043d0873c673e7ee22e0b1333aee054b345"
  },
  "kernelspec": {
   "display_name": "Python 3 (ipykernel)",
   "language": "python",
   "name": "python3"
  },
  "language_info": {
   "codemirror_mode": {
    "name": "ipython",
    "version": 3
   },
   "file_extension": ".py",
   "mimetype": "text/x-python",
   "name": "python",
   "nbconvert_exporter": "python",
   "pygments_lexer": "ipython3",
   "version": "3.9.7"
  }
 },
 "nbformat": 4,
 "nbformat_minor": 5
}
