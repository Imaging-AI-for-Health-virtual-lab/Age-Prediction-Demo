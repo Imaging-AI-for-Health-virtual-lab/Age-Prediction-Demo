{
 "cells": [
  {
   "cell_type": "markdown",
   "metadata": {},
   "source": [
    "[![Open In Colab](https://colab.research.google.com/assets/colab-badge.svg)](https://colab.research.google.com/github/sdiciotti/Age-Prediction-Demo/blob/master/Age_prediction.ipynb)"
   ]
  },
  {
   "cell_type": "code",
   "execution_count": 9,
   "metadata": {},
   "outputs": [],
   "source": [
    "import numpy as np\n",
    "import pandas as pd\n",
    "from sklearn.model_selection import train_test_split, KFold, GridSearchCV, cross_validate\n",
    "from sklearn.svm import SVR, SVC\n",
    "from sklearn.metrics import mean_absolute_error, accuracy_score"
   ]
  },
  {
   "cell_type": "code",
   "execution_count": 3,
   "metadata": {},
   "outputs": [],
   "source": [
    "df = pd.read_csv('NKI2_data.csv')"
   ]
  },
  {
   "cell_type": "code",
   "execution_count": 13,
   "metadata": {},
   "outputs": [
    {
     "name": "stdout",
     "output_type": "stream",
     "text": [
      "Dataframe shape before NaN removal: 73\n"
     ]
    }
   ],
   "source": [
    "df\n",
    "print(\"Dataframe shape before NaN removal:\", np.shape(df)[0])"
   ]
  },
  {
   "cell_type": "code",
   "execution_count": 14,
   "metadata": {},
   "outputs": [
    {
     "name": "stdout",
     "output_type": "stream",
     "text": [
      "Dataframe shape after NaN removal: 72\n"
     ]
    }
   ],
   "source": [
    "df.dropna(axis=0, how='any', thresh=None, subset=None, inplace=True)\n",
    "print(\"Dataframe shape after NaN removal:\", np.shape(df)[0])"
   ]
  },
  {
   "cell_type": "code",
   "execution_count": 15,
   "metadata": {},
   "outputs": [
    {
     "name": "stdout",
     "output_type": "stream",
     "text": [
      "***Regression task\n",
      "The whole dataset contains 72 subjects\n",
      "The age prediction will be performed using 33 MRI-derived features\n",
      "\n"
     ]
    }
   ],
   "source": [
    "### REGRESSION ###\n",
    "print('***Regression task')\n",
    "\n",
    "SEED = 42\n",
    "outer_n_folds = 5\n",
    "inner_n_folds = 5\n",
    "C = [0.1, 1, 10]\n",
    "\n",
    "X = df.iloc[:,3::]\n",
    "y = df['Age']\n",
    "\n",
    "print('The whole dataset contains ' + str(np.shape(df)[0]) + ' subjects')\n",
    "print('The age prediction will be performed using ' + str(np.shape(X)[1]) + ' MRI-derived features')\n",
    "print() "
   ]
  },
  {
   "cell_type": "code",
   "execution_count": 16,
   "metadata": {},
   "outputs": [
    {
     "name": "stdout",
     "output_type": "stream",
     "text": [
      "Fitting 5 folds for each of 3 candidates, totalling 15 fits\n",
      "[CV 1/5] END ............................C=0.1;, score=-2.315 total time=   0.0s\n",
      "[CV 2/5] END ............................C=0.1;, score=-1.942 total time=   0.0s\n",
      "[CV 3/5] END ............................C=0.1;, score=-2.458 total time=   0.0s\n",
      "[CV 4/5] END ............................C=0.1;, score=-3.115 total time=   0.0s\n",
      "[CV 5/5] END ............................C=0.1;, score=-3.355 total time=   0.0s\n",
      "[CV 1/5] END ..............................C=1;, score=-1.614 total time=   0.0s\n",
      "[CV 2/5] END ..............................C=1;, score=-1.297 total time=   0.0s\n",
      "[CV 3/5] END ..............................C=1;, score=-1.571 total time=   0.0s\n",
      "[CV 4/5] END ..............................C=1;, score=-2.337 total time=   0.0s\n",
      "[CV 5/5] END ..............................C=1;, score=-2.101 total time=   0.0s\n",
      "[CV 1/5] END .............................C=10;, score=-1.444 total time=   0.0s\n",
      "[CV 2/5] END .............................C=10;, score=-1.347 total time=   0.0s\n",
      "[CV 3/5] END .............................C=10;, score=-1.602 total time=   0.0s\n",
      "[CV 4/5] END .............................C=10;, score=-1.658 total time=   0.0s\n",
      "[CV 5/5] END .............................C=10;, score=-1.462 total time=   0.0s\n",
      "Fitting 5 folds for each of 3 candidates, totalling 15 fits\n",
      "[CV 1/5] END ............................C=0.1;, score=-2.492 total time=   0.0s\n",
      "[CV 2/5] END ............................C=0.1;, score=-2.516 total time=   0.0s\n",
      "[CV 3/5] END ............................C=0.1;, score=-3.274 total time=   0.0s\n",
      "[CV 4/5] END ............................C=0.1;, score=-2.504 total time=   0.0s\n",
      "[CV 5/5] END ............................C=0.1;, score=-2.326 total time=   0.0s\n",
      "[CV 1/5] END ..............................C=1;, score=-2.067 total time=   0.0s\n",
      "[CV 2/5] END ..............................C=1;, score=-1.747 total time=   0.0s\n",
      "[CV 3/5] END ..............................C=1;, score=-2.206 total time=   0.0s\n",
      "[CV 4/5] END ..............................C=1;, score=-1.821 total time=   0.0s\n",
      "[CV 5/5] END ..............................C=1;, score=-1.672 total time=   0.0s\n",
      "[CV 1/5] END .............................C=10;, score=-1.634 total time=   0.0s\n",
      "[CV 2/5] END .............................C=10;, score=-1.583 total time=   0.0s\n",
      "[CV 3/5] END .............................C=10;, score=-1.585 total time=   0.0s\n",
      "[CV 4/5] END .............................C=10;, score=-1.659 total time=   0.0s\n",
      "[CV 5/5] END .............................C=10;, score=-1.296 total time=   0.0s\n",
      "Fitting 5 folds for each of 3 candidates, totalling 15 fits\n",
      "[CV 1/5] END ............................C=0.1;, score=-2.649 total time=   0.0s\n",
      "[CV 2/5] END ............................C=0.1;, score=-2.341 total time=   0.0s\n",
      "[CV 3/5] END ............................C=0.1;, score=-2.987 total time=   0.0s\n",
      "[CV 4/5] END ............................C=0.1;, score=-2.447 total time=   0.0s\n",
      "[CV 5/5] END ............................C=0.1;, score=-2.765 total time=   0.0s\n",
      "[CV 1/5] END ..............................C=1;, score=-1.617 total time=   0.0s\n",
      "[CV 2/5] END ..............................C=1;, score=-1.360 total time=   0.0s\n",
      "[CV 3/5] END ..............................C=1;, score=-2.317 total time=   0.0s\n",
      "[CV 4/5] END ..............................C=1;, score=-2.031 total time=   0.0s\n",
      "[CV 5/5] END ..............................C=1;, score=-1.973 total time=   0.0s\n",
      "[CV 1/5] END .............................C=10;, score=-1.437 total time=   0.0s\n",
      "[CV 2/5] END .............................C=10;, score=-1.381 total time=   0.0s\n",
      "[CV 3/5] END .............................C=10;, score=-2.123 total time=   0.0s\n",
      "[CV 4/5] END .............................C=10;, score=-1.908 total time=   0.0s\n",
      "[CV 5/5] END .............................C=10;, score=-1.572 total time=   0.0s\n",
      "Fitting 5 folds for each of 3 candidates, totalling 15 fits\n",
      "[CV 1/5] END ............................C=0.1;, score=-3.176 total time=   0.0s\n",
      "[CV 2/5] END ............................C=0.1;, score=-3.019 total time=   0.0s\n",
      "[CV 3/5] END ............................C=0.1;, score=-2.903 total time=   0.0s\n",
      "[CV 4/5] END ............................C=0.1;, score=-2.539 total time=   0.0s\n",
      "[CV 5/5] END ............................C=0.1;, score=-2.517 total time=   0.0s\n",
      "[CV 1/5] END ..............................C=1;, score=-2.349 total time=   0.0s\n",
      "[CV 2/5] END ..............................C=1;, score=-2.335 total time=   0.0s\n",
      "[CV 3/5] END ..............................C=1;, score=-1.704 total time=   0.0s\n",
      "[CV 4/5] END ..............................C=1;, score=-1.404 total time=   0.0s\n",
      "[CV 5/5] END ..............................C=1;, score=-1.860 total time=   0.0s\n",
      "[CV 1/5] END .............................C=10;, score=-2.065 total time=   0.0s\n",
      "[CV 2/5] END .............................C=10;, score=-1.933 total time=   0.0s\n",
      "[CV 3/5] END .............................C=10;, score=-1.680 total time=   0.0s\n",
      "[CV 4/5] END .............................C=10;, score=-0.982 total time=   0.0s\n",
      "[CV 5/5] END .............................C=10;, score=-1.430 total time=   0.0s\n",
      "Fitting 5 folds for each of 3 candidates, totalling 15 fits\n",
      "[CV 1/5] END ............................C=0.1;, score=-2.235 total time=   0.0s\n",
      "[CV 2/5] END ............................C=0.1;, score=-2.734 total time=   0.0s\n",
      "[CV 3/5] END ............................C=0.1;, score=-2.457 total time=   0.0s\n",
      "[CV 4/5] END ............................C=0.1;, score=-3.108 total time=   0.0s\n",
      "[CV 5/5] END ............................C=0.1;, score=-2.662 total time=   0.0s\n",
      "[CV 1/5] END ..............................C=1;, score=-1.635 total time=   0.0s\n",
      "[CV 2/5] END ..............................C=1;, score=-2.037 total time=   0.0s\n",
      "[CV 3/5] END ..............................C=1;, score=-1.558 total time=   0.0s\n",
      "[CV 4/5] END ..............................C=1;, score=-2.253 total time=   0.0s\n",
      "[CV 5/5] END ..............................C=1;, score=-1.550 total time=   0.0s\n",
      "[CV 1/5] END .............................C=10;, score=-1.445 total time=   0.0s\n",
      "[CV 2/5] END .............................C=10;, score=-1.593 total time=   0.0s\n",
      "[CV 3/5] END .............................C=10;, score=-1.479 total time=   0.0s\n",
      "[CV 4/5] END .............................C=10;, score=-1.465 total time=   0.0s\n",
      "[CV 5/5] END .............................C=10;, score=-1.403 total time=   0.0s\n",
      "Average MAE train: 1.1900225684513734\n",
      "Average MAE test: 1.5415956369836041\n"
     ]
    }
   ],
   "source": [
    "# NestedCV implemented in scikit-learn\n",
    "outer_cv = KFold(n_splits=outer_n_folds, shuffle=True, random_state=SEED)\n",
    "inner_cv = KFold(n_splits=inner_n_folds, shuffle=True, random_state=SEED)\n",
    "\n",
    "clf = SVR(kernel='rbf', degree=3, gamma='scale', coef0=0.0, tol=0.001, C=0.1, epsilon=0.1, shrinking=True, cache_size=200, verbose=0, max_iter=- 1)\n",
    "p_grid = [{'C': C}]     \n",
    "\n",
    "X = np.asarray(X)\n",
    "y = np.asarray(y)\n",
    "\n",
    "clf_gs = GridSearchCV(clf, param_grid=p_grid, cv=inner_cv, refit='neg_mean_absolute_error', scoring='neg_mean_absolute_error', n_jobs=1, verbose = 4)\n",
    "nested_score = cross_validate(clf_gs, X=X, y=y, cv=outer_cv, return_train_score=True, return_estimator=True, scoring = 'neg_mean_absolute_error', n_jobs=1)\n",
    "\n",
    "#print(np.abs(nested_score['train_score']))\n",
    "#print(np.abs(nested_score['test_score']))\n",
    "print(\"Average MAE train:\", np.abs(np.mean(nested_score['train_score'])))\n",
    "print(\"Average MAE test:\", np.abs(np.mean(nested_score['test_score'])))"
   ]
  },
  {
   "cell_type": "code",
   "execution_count": null,
   "metadata": {},
   "outputs": [],
   "source": []
  }
 ],
 "metadata": {
  "kernelspec": {
   "display_name": "Python 3",
   "language": "python",
   "name": "python3"
  },
  "language_info": {
   "codemirror_mode": {
    "name": "ipython",
    "version": 3
   },
   "file_extension": ".py",
   "mimetype": "text/x-python",
   "name": "python",
   "nbconvert_exporter": "python",
   "pygments_lexer": "ipython3",
   "version": "3.8.10"
  }
 },
 "nbformat": 4,
 "nbformat_minor": 5
}
